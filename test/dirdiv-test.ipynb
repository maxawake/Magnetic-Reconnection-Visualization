{
 "cells": [
  {
   "cell_type": "code",
   "execution_count": 2,
   "metadata": {},
   "outputs": [],
   "source": [
    "import numpy as np\n",
    "import matplotlib.pyplot as plt\n",
    "from maxpy.algorithms import *\n",
    "from maxpy.utils import save_as_vti\n",
    "\n",
    "linx = np.linspace(-2, 2, 64)\n",
    "liny = np.linspace(-2, 2, 64)\n",
    "linz = np.linspace(-2, 2, 64)\n",
    "\n",
    "origin = [linx[0], liny[0], linz[0]]\n",
    "spacing = [linx[1] - linx[0], liny[1] - liny[0], linz[1] - linz[0]]\n",
    "\n",
    "x, y, z = np.meshgrid(linx, liny, linz, indexing=\"ij\")\n",
    "\n",
    "field = np.array([\n",
    "    x**2, \n",
    "    y**2, \n",
    "    z**2\n",
    "]) \n",
    "\n",
    "Jv = get_directional_derivative(field, linx, liny, linz)\n",
    "\n",
    "save_as_vti(field, Jv, origin=origin, spacing=spacing, savepath=\"~/Temp/\", name=\"dirdiv-test\")"
   ]
  },
  {
   "cell_type": "code",
   "execution_count": null,
   "metadata": {},
   "outputs": [],
   "source": []
  }
 ],
 "metadata": {
  "kernelspec": {
   "display_name": "work",
   "language": "python",
   "name": "python3"
  },
  "language_info": {
   "codemirror_mode": {
    "name": "ipython",
    "version": 3
   },
   "file_extension": ".py",
   "mimetype": "text/x-python",
   "name": "python",
   "nbconvert_exporter": "python",
   "pygments_lexer": "ipython3",
   "version": "3.11.3"
  }
 },
 "nbformat": 4,
 "nbformat_minor": 2
}
