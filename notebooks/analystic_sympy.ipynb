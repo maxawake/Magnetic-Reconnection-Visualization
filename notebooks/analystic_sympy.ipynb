{
 "cells": [
  {
   "cell_type": "code",
   "execution_count": 1,
   "metadata": {},
   "outputs": [],
   "source": [
    "import numpy as np\n",
    "import sympy as sp\n",
    "from sympy import init_printing\n",
    "from sympy.vector import CoordSys3D\n",
    "from sympy.vector import curl\n",
    "#init_printing(use_latex='mathjax')\n",
    "from IPython.display import Math, display\n",
    "\n",
    "def printf(expr, prefix=\"\"):\n",
    "    \"\"\"Function to print sympy nice\n",
    "\n",
    "    Args:\n",
    "        expr (sympy.expr): Any sympy expression\n",
    "        prefix (str, optional): Prefix to expression in LaTeX. Defaults to \"\".\n",
    "    \"\"\"\n",
    "    display(Math(prefix + sp.latex(expr)))"
   ]
  },
  {
   "cell_type": "markdown",
   "metadata": {},
   "source": [
    "# Wedge Product"
   ]
  },
  {
   "cell_type": "code",
   "execution_count": 2,
   "metadata": {},
   "outputs": [
    {
     "data": {
      "text/latex": [
       "$\\displaystyle 1$"
      ],
      "text/plain": [
       "1"
      ]
     },
     "execution_count": 2,
     "metadata": {},
     "output_type": "execute_result"
    }
   ],
   "source": [
    "from sympy.diffgeom.rn import R2_r\n",
    "from sympy.diffgeom import WedgeProduct\n",
    "\n",
    "fx, fy = R2_r.base_scalars()\n",
    "e_x, e_y = R2_r.base_vectors()\n",
    "dx, dy = R2_r.base_oneforms()\n",
    "\n",
    "WedgeProduct(-dy, dx)(e_x, e_y)"
   ]
  },
  {
   "cell_type": "markdown",
   "metadata": {},
   "source": [
    "# Parallel Vectors Operator"
   ]
  },
  {
   "cell_type": "code",
   "execution_count": 3,
   "metadata": {},
   "outputs": [],
   "source": [
    "x, y, z, t, alpha = sp.symbols(\"x y z t alpha\")\n",
    "\n",
    "class PVSympy:\n",
    "    def __init__(self, u):\n",
    "        self.N = CoordSys3D('R')\n",
    "        \n",
    "        self.vector_field = sp.Matrix(u)\n",
    "        self.jacobian = self.vector_field.jacobian(sp.Matrix([x,y,z]))\n",
    "        self.acceleration = self.jacobian @ self.vector_field\n",
    "        \n",
    "        v1 = self.vector_field[0]*self.N.i+self.vector_field[1]*self.N.j+self.vector_field[2]*self.N.k\n",
    "        v2 = self.acceleration[0]*self.N.i+self.acceleration[1]*self.N.j+self.acceleration[2]*self.N.k\n",
    "\n",
    "        self.parallel_vectors = v1.cross(v2).to_matrix(self.N).simplify()\n",
    "\n",
    "        self.pv_flow = self.parallel_vectors.diff(t)\n",
    "\n",
    "        #self.pv_solution = sp.solve(self.parallel_vectors, sp.Matrix([x,y,z]))\n",
    "\n",
    "        self.eigvecs = self.jacobian.eigenvects()\n",
    "\n",
    "    def print(self, eigvecs = False):\n",
    "        printf(self.vector_field, \"u=\")\n",
    "        printf(self.jacobian, \"\\\\nabla u=\")\n",
    "        printf(self.acceleration, \"(\\\\nabla u)u=\")\n",
    "        printf(self.parallel_vectors, \"u\\\\times(\\\\nabla u)u=\")\n",
    "        printf(self.pv_flow, \"\\\\frac{\\mathrm{d}}{\\mathrm{d}t} (u\\\\times(\\\\nabla u)u)=\")\n",
    "        #printf(self.pv_solution, \"\\{x\\in\\mathbb{R}^n\\mid u\\\\times(\\\\nabla u)u = 0\\}=\")\n",
    "        if eigvecs:\n",
    "            printf(self.eigvecs, \"(\\lambda_i, v_i)=\")\n",
    "\n",
    "    def get_function(self):\n",
    "        return sp.lambdify((x,y,z,t),self.vector_field)\n"
   ]
  },
  {
   "cell_type": "code",
   "execution_count": 4,
   "metadata": {},
   "outputs": [
    {
     "data": {
      "text/latex": [
       "$\\displaystyle u=\\left[\\begin{matrix}x\\\\- y\\\\\\alpha z\\end{matrix}\\right]$"
      ],
      "text/plain": [
       "<IPython.core.display.Math object>"
      ]
     },
     "metadata": {},
     "output_type": "display_data"
    },
    {
     "data": {
      "text/latex": [
       "$\\displaystyle \\nabla u=\\left[\\begin{matrix}1 & 0 & 0\\\\0 & -1 & 0\\\\0 & 0 & \\alpha\\end{matrix}\\right]$"
      ],
      "text/plain": [
       "<IPython.core.display.Math object>"
      ]
     },
     "metadata": {},
     "output_type": "display_data"
    },
    {
     "data": {
      "text/latex": [
       "$\\displaystyle (\\nabla u)u=\\left[\\begin{matrix}x\\\\y\\\\\\alpha^{2} z\\end{matrix}\\right]$"
      ],
      "text/plain": [
       "<IPython.core.display.Math object>"
      ]
     },
     "metadata": {},
     "output_type": "display_data"
    },
    {
     "data": {
      "text/latex": [
       "$\\displaystyle u\\times(\\nabla u)u=\\left[\\begin{matrix}\\alpha y z \\left(- \\alpha - 1\\right)\\\\\\alpha x z \\left(1 - \\alpha\\right)\\\\2 x y\\end{matrix}\\right]$"
      ],
      "text/plain": [
       "<IPython.core.display.Math object>"
      ]
     },
     "metadata": {},
     "output_type": "display_data"
    },
    {
     "data": {
      "text/latex": [
       "$\\displaystyle \\frac{\\mathrm{d}}{\\mathrm{d}t} (u\\times(\\nabla u)u)=\\left[\\begin{matrix}0\\\\0\\\\0\\end{matrix}\\right]$"
      ],
      "text/plain": [
       "<IPython.core.display.Math object>"
      ]
     },
     "metadata": {},
     "output_type": "display_data"
    },
    {
     "data": {
      "text/latex": [
       "$\\displaystyle (\\lambda_i, v_i)=\\left[ \\left( -1, \\  1, \\  \\left[ \\left[\\begin{matrix}0\\\\1\\\\0\\end{matrix}\\right]\\right]\\right), \\  \\left( 1, \\  1, \\  \\left[ \\left[\\begin{matrix}1\\\\0\\\\0\\end{matrix}\\right]\\right]\\right), \\  \\left( \\alpha, \\  1, \\  \\left[ \\left[\\begin{matrix}0\\\\0\\\\1\\end{matrix}\\right]\\right]\\right)\\right]$"
      ],
      "text/plain": [
       "<IPython.core.display.Math object>"
      ]
     },
     "metadata": {},
     "output_type": "display_data"
    },
    {
     "data": {
      "text/latex": [
       "$\\displaystyle \\left[ \\left( 0, \\  - \\sqrt{t}\\right), \\  \\left( 0, \\  \\sqrt{t}\\right)\\right]$"
      ],
      "text/plain": [
       "<IPython.core.display.Math object>"
      ]
     },
     "metadata": {},
     "output_type": "display_data"
    }
   ],
   "source": [
    "pv = PVSympy([x,-y, alpha*z])\n",
    "pv.print(eigvecs=True)\n",
    "\n",
    "printf(sp.solve(sp.Matrix([y**2-t,-x]), (x,y)))"
   ]
  },
  {
   "cell_type": "markdown",
   "metadata": {},
   "source": [
    "# Saddle-Center Bifurcation"
   ]
  },
  {
   "cell_type": "code",
   "execution_count": 5,
   "metadata": {},
   "outputs": [
    {
     "data": {
      "text/latex": [
       "$\\displaystyle u=\\left[\\begin{matrix}- t + y^{2}\\\\- x\\\\\\alpha z\\end{matrix}\\right]$"
      ],
      "text/plain": [
       "<IPython.core.display.Math object>"
      ]
     },
     "metadata": {},
     "output_type": "display_data"
    },
    {
     "data": {
      "text/latex": [
       "$\\displaystyle \\nabla u=\\left[\\begin{matrix}0 & 2 y & 0\\\\-1 & 0 & 0\\\\0 & 0 & \\alpha\\end{matrix}\\right]$"
      ],
      "text/plain": [
       "<IPython.core.display.Math object>"
      ]
     },
     "metadata": {},
     "output_type": "display_data"
    },
    {
     "data": {
      "text/latex": [
       "$\\displaystyle (\\nabla u)u=\\left[\\begin{matrix}- 2 x y\\\\t - y^{2}\\\\\\alpha^{2} z\\end{matrix}\\right]$"
      ],
      "text/plain": [
       "<IPython.core.display.Math object>"
      ]
     },
     "metadata": {},
     "output_type": "display_data"
    },
    {
     "data": {
      "text/latex": [
       "$\\displaystyle u\\times(\\nabla u)u=\\left[\\begin{matrix}\\alpha z \\left(- \\alpha x - t + y^{2}\\right)\\\\\\alpha z \\left(\\alpha \\left(t - y^{2}\\right) - 2 x y\\right)\\\\- 2 x^{2} y - \\left(t - y^{2}\\right)^{2}\\end{matrix}\\right]$"
      ],
      "text/plain": [
       "<IPython.core.display.Math object>"
      ]
     },
     "metadata": {},
     "output_type": "display_data"
    },
    {
     "data": {
      "text/latex": [
       "$\\displaystyle \\frac{\\mathrm{d}}{\\mathrm{d}t} (u\\times(\\nabla u)u)=\\left[\\begin{matrix}- \\alpha z\\\\\\alpha^{2} z\\\\- 2 t + 2 y^{2}\\end{matrix}\\right]$"
      ],
      "text/plain": [
       "<IPython.core.display.Math object>"
      ]
     },
     "metadata": {},
     "output_type": "display_data"
    },
    {
     "data": {
      "text/latex": [
       "$\\displaystyle (\\lambda_i, v_i)=\\left[ \\left( \\alpha, \\  1, \\  \\left[ \\left[\\begin{matrix}0\\\\0\\\\1\\end{matrix}\\right]\\right]\\right), \\  \\left( - \\sqrt{2} \\sqrt{- y}, \\  1, \\  \\left[ \\left[\\begin{matrix}\\sqrt{2} \\sqrt{- y}\\\\1\\\\0\\end{matrix}\\right]\\right]\\right), \\  \\left( \\sqrt{2} \\sqrt{- y}, \\  1, \\  \\left[ \\left[\\begin{matrix}- \\sqrt{2} \\sqrt{- y}\\\\1\\\\0\\end{matrix}\\right]\\right]\\right)\\right]$"
      ],
      "text/plain": [
       "<IPython.core.display.Math object>"
      ]
     },
     "metadata": {},
     "output_type": "display_data"
    },
    {
     "data": {
      "text/latex": [
       "$\\displaystyle \\left[ \\left( 0, \\  - \\sqrt{t}\\right), \\  \\left( 0, \\  \\sqrt{t}\\right)\\right]$"
      ],
      "text/plain": [
       "<IPython.core.display.Math object>"
      ]
     },
     "metadata": {},
     "output_type": "display_data"
    }
   ],
   "source": [
    "pv = PVSympy([y**2-t,-x, alpha*z])\n",
    "pv.print(eigvecs=True)\n",
    "\n",
    "printf(sp.solve(sp.Matrix([y**2-t,-x]), (x,y)))\n"
   ]
  },
  {
   "cell_type": "markdown",
   "metadata": {},
   "source": [
    "# Singular Field Line Reconnection"
   ]
  },
  {
   "cell_type": "code",
   "execution_count": 8,
   "metadata": {},
   "outputs": [
    {
     "data": {
      "text/latex": [
       "$\\displaystyle u=\\left[\\begin{matrix}- t + z^{2} + \\left(y - 2\\right)^{2}\\\\- x\\\\\\alpha z + 20\\end{matrix}\\right]$"
      ],
      "text/plain": [
       "<IPython.core.display.Math object>"
      ]
     },
     "metadata": {},
     "output_type": "display_data"
    },
    {
     "data": {
      "text/latex": [
       "$\\displaystyle \\nabla u=\\left[\\begin{matrix}0 & 2 y - 4 & 2 z\\\\-1 & 0 & 0\\\\0 & 0 & \\alpha\\end{matrix}\\right]$"
      ],
      "text/plain": [
       "<IPython.core.display.Math object>"
      ]
     },
     "metadata": {},
     "output_type": "display_data"
    },
    {
     "data": {
      "text/latex": [
       "$\\displaystyle (\\nabla u)u=\\left[\\begin{matrix}- x \\left(2 y - 4\\right) + 2 z \\left(\\alpha z + 20\\right)\\\\t - z^{2} - \\left(y - 2\\right)^{2}\\\\\\alpha \\left(\\alpha z + 20\\right)\\end{matrix}\\right]$"
      ],
      "text/plain": [
       "<IPython.core.display.Math object>"
      ]
     },
     "metadata": {},
     "output_type": "display_data"
    },
    {
     "data": {
      "text/latex": [
       "$\\displaystyle u\\times(\\nabla u)u=\\left[\\begin{matrix}\\left(\\alpha z + 20\\right) \\left(- \\alpha x - t + z^{2} + \\left(y - 2\\right)^{2}\\right)\\\\\\left(\\alpha z + 20\\right) \\left(- \\alpha \\left(- t + z^{2} + \\left(y - 2\\right)^{2}\\right) - 2 x \\left(y - 2\\right) + 2 z \\left(\\alpha z + 20\\right)\\right)\\\\- 2 x \\left(x \\left(y - 2\\right) - z \\left(\\alpha z + 20\\right)\\right) - \\left(- t + z^{2} + \\left(y - 2\\right)^{2}\\right)^{2}\\end{matrix}\\right]$"
      ],
      "text/plain": [
       "<IPython.core.display.Math object>"
      ]
     },
     "metadata": {},
     "output_type": "display_data"
    },
    {
     "data": {
      "text/latex": [
       "$\\displaystyle \\frac{\\mathrm{d}}{\\mathrm{d}t} (u\\times(\\nabla u)u)=\\left[\\begin{matrix}- \\alpha z - 20\\\\\\alpha \\left(\\alpha z + 20\\right)\\\\- 2 t + 2 z^{2} + 2 \\left(y - 2\\right)^{2}\\end{matrix}\\right]$"
      ],
      "text/plain": [
       "<IPython.core.display.Math object>"
      ]
     },
     "metadata": {},
     "output_type": "display_data"
    },
    {
     "data": {
      "text/latex": [
       "$\\displaystyle (\\lambda_i, v_i)=\\left[ \\left( \\alpha, \\  1, \\  \\left[ \\left[\\begin{matrix}\\frac{2 \\alpha z}{\\alpha^{2} + 2 y - 4}\\\\- \\frac{2 z}{\\alpha^{2} + 2 y - 4}\\\\1\\end{matrix}\\right]\\right]\\right), \\  \\left( - \\sqrt{2} \\sqrt{2 - y}, \\  1, \\  \\left[ \\left[\\begin{matrix}\\sqrt{2} \\sqrt{2 - y}\\\\1\\\\0\\end{matrix}\\right]\\right]\\right), \\  \\left( \\sqrt{2} \\sqrt{2 - y}, \\  1, \\  \\left[ \\left[\\begin{matrix}- \\sqrt{2} \\sqrt{2 - y}\\\\1\\\\0\\end{matrix}\\right]\\right]\\right)\\right]$"
      ],
      "text/plain": [
       "<IPython.core.display.Math object>"
      ]
     },
     "metadata": {},
     "output_type": "display_data"
    },
    {
     "data": {
      "text/plain": [
       "[(0, 2 - sqrt(alpha**2*t - 400)/alpha, -20/alpha),\n",
       " (0, 2 + sqrt(alpha**2*t - 400)/alpha, -20/alpha)]"
      ]
     },
     "execution_count": 8,
     "metadata": {},
     "output_type": "execute_result"
    }
   ],
   "source": [
    "pv = PVSympy([(y-2)**2-t+z**2, -x, alpha*z+20])\n",
    "pv.print(eigvecs=True)\n",
    "\n",
    "sp.solve(pv.acceleration, (x,y,z))"
   ]
  },
  {
   "cell_type": "code",
   "execution_count": 13,
   "metadata": {},
   "outputs": [
    {
     "data": {
      "text/latex": [
       "$\\displaystyle \\gamma=\\left[\\begin{matrix}- \\frac{\\alpha z^{2}}{\\left(t - z^{2}\\right)^{\\frac{3}{2}}} - \\frac{\\alpha}{\\sqrt{t - z^{2}}}\\\\\\frac{z}{\\sqrt{t - z^{2}}}\\\\1\\end{matrix}\\right]$"
      ],
      "text/plain": [
       "<IPython.core.display.Math object>"
      ]
     },
     "metadata": {},
     "output_type": "display_data"
    },
    {
     "data": {
      "text/latex": [
       "$\\displaystyle angle=\\operatorname{acos}{\\left(\\frac{\\alpha - \\frac{x z}{\\sqrt{t - z^{2}}} + \\left(- \\frac{\\alpha z^{2}}{\\left(t - z^{2}\\right)^{\\frac{3}{2}}} - \\frac{\\alpha}{\\sqrt{t - z^{2}}}\\right) \\left(- t + z^{2} + \\left(y - 2\\right)^{2}\\right)}{\\sqrt{\\frac{\\left|{z}\\right|^{2}}{\\left|{\\sqrt{t - z^{2}}}\\right|^{2}} + \\left|{\\frac{\\alpha z^{2}}{\\left(t - z^{2}\\right)^{\\frac{3}{2}}} + \\frac{\\alpha}{\\sqrt{t - z^{2}}}}\\right|^{2} + 1} \\sqrt{\\left|{\\alpha}\\right|^{2} + \\left|{x}\\right|^{2} + \\left|{- t + z^{2} + \\left(y - 2\\right)^{2}}\\right|^{2}}} \\right)}$"
      ],
      "text/plain": [
       "<IPython.core.display.Math object>"
      ]
     },
     "metadata": {},
     "output_type": "display_data"
    },
    {
     "data": {
      "text/latex": [
       "$\\displaystyle angle=1.25552721532078$"
      ],
      "text/plain": [
       "<IPython.core.display.Math object>"
      ]
     },
     "metadata": {},
     "output_type": "display_data"
    }
   ],
   "source": [
    "tangent = sp.Matrix([pv.pv_solution[0][0].diff(z), pv.pv_solution[0][1].diff(z), pv.pv_solution[0][2].diff(z)])\n",
    "printf(tangent, \"\\gamma=\")\n",
    "\n",
    "u = pv.eigvecs[0][2][0]\n",
    "angle = sp.acos(tangent.dot(pv.vector_field)/(tangent.norm()*pv.vector_field.norm()))\n",
    "printf(angle, \"angle=\")\n",
    "printf(angle.subs(alpha, 1).subs(t,1).subs(x,0).subs(y,1).subs(z,0.5), \"angle=\")"
   ]
  },
  {
   "cell_type": "code",
   "execution_count": 66,
   "metadata": {},
   "outputs": [
    {
     "data": {
      "text/latex": [
       "$\\displaystyle angle=77.4711922908485$"
      ],
      "text/plain": [
       "<IPython.core.display.Math object>"
      ]
     },
     "metadata": {},
     "output_type": "display_data"
    }
   ],
   "source": [
    "# angle between eigenvector and vector field\n",
    "angle = sp.acos(pv.eigvecs[0][2][0].dot(pv.vector_field)/(pv.eigvecs[0][2][0].norm()*pv.vector_field.norm()))/sp.pi*180.0\n",
    "printf(angle.subs(x,0).subs(y,0).subs(z,1).subs(alpha,1.0).subs(t, 1.0).evalf(), \"angle=\")\n",
    "    #), \"angle=\")"
   ]
  },
  {
   "cell_type": "code",
   "execution_count": 69,
   "metadata": {},
   "outputs": [
    {
     "data": {
      "text/latex": [
       "$\\displaystyle u\\times v=\\left[ \\left( - \\frac{\\alpha z}{\\sqrt{t - z^{2}}}, \\  2 - \\sqrt{t - z^{2}}, \\  z\\right), \\  \\left( \\frac{\\alpha z}{\\sqrt{t - z^{2}}}, \\  \\sqrt{t - z^{2}} + 2, \\  z\\right)\\right]$"
      ],
      "text/plain": [
       "<IPython.core.display.Math object>"
      ]
     },
     "metadata": {},
     "output_type": "display_data"
    }
   ],
   "source": [
    "v = pv.vector_field\n",
    "v_R = v[0]*pv.N.i + v[1]*pv.N.j + v[2]*pv.N.k\n",
    "u_R = u[0]*pv.N.i + u[1]*pv.N.j + u[2]*pv.N.k\n",
    "pv_uv = v_R.cross(u_R).to_matrix(pv.N).simplify()\n",
    "printf(sp.solve(pv_uv, sp.Matrix([x,y,z])), \"u\\\\times v=\")"
   ]
  },
  {
   "cell_type": "code",
   "execution_count": 76,
   "metadata": {},
   "outputs": [
    {
     "data": {
      "text/latex": [
       "$\\displaystyle u=\\left[\\begin{matrix}t z^{2} + y\\\\x\\\\\\alpha\\end{matrix}\\right]$"
      ],
      "text/plain": [
       "<IPython.core.display.Math object>"
      ]
     },
     "metadata": {},
     "output_type": "display_data"
    },
    {
     "data": {
      "text/latex": [
       "$\\displaystyle \\nabla u=\\left[\\begin{matrix}0 & 1 & 2 t z\\\\1 & 0 & 0\\\\0 & 0 & 0\\end{matrix}\\right]$"
      ],
      "text/plain": [
       "<IPython.core.display.Math object>"
      ]
     },
     "metadata": {},
     "output_type": "display_data"
    },
    {
     "data": {
      "text/latex": [
       "$\\displaystyle (\\nabla u)u=\\left[\\begin{matrix}2 \\alpha t z + x\\\\t z^{2} + y\\\\0\\end{matrix}\\right]$"
      ],
      "text/plain": [
       "<IPython.core.display.Math object>"
      ]
     },
     "metadata": {},
     "output_type": "display_data"
    },
    {
     "data": {
      "text/latex": [
       "$\\displaystyle u\\times(\\nabla u)u=\\left[\\begin{matrix}- \\alpha \\left(t z^{2} + y\\right)\\\\\\alpha \\left(2 \\alpha t z + x\\right)\\\\- x \\left(2 \\alpha t z + x\\right) + \\left(t z^{2} + y\\right)^{2}\\end{matrix}\\right]$"
      ],
      "text/plain": [
       "<IPython.core.display.Math object>"
      ]
     },
     "metadata": {},
     "output_type": "display_data"
    },
    {
     "data": {
      "text/latex": [
       "$\\displaystyle \\frac{\\mathrm{d}}{\\mathrm{d}t} (u\\times(\\nabla u)u)=\\left[\\begin{matrix}- \\alpha z^{2}\\\\2 \\alpha^{2} z\\\\- 2 \\alpha x z + 2 z^{2} \\left(t z^{2} + y\\right)\\end{matrix}\\right]$"
      ],
      "text/plain": [
       "<IPython.core.display.Math object>"
      ]
     },
     "metadata": {},
     "output_type": "display_data"
    },
    {
     "data": {
      "text/latex": [
       "$\\displaystyle \\{x\\in\\mathbb{R}^n\\mid u\\times(\\nabla u)u = 0\\}=\\left[ \\left( - 2 \\alpha t z, \\  - t z^{2}, \\  z\\right)\\right]$"
      ],
      "text/plain": [
       "<IPython.core.display.Math object>"
      ]
     },
     "metadata": {},
     "output_type": "display_data"
    },
    {
     "data": {
      "text/latex": [
       "$\\displaystyle (\\lambda_i, v_i)=\\left[ \\left( -1, \\  1, \\  \\left[ \\left[\\begin{matrix}-1\\\\1\\\\0\\end{matrix}\\right]\\right]\\right), \\  \\left( 0, \\  1, \\  \\left[ \\left[\\begin{matrix}0\\\\- 2 t z\\\\1\\end{matrix}\\right]\\right]\\right), \\  \\left( 1, \\  1, \\  \\left[ \\left[\\begin{matrix}1\\\\1\\\\0\\end{matrix}\\right]\\right]\\right)\\right]$"
      ],
      "text/plain": [
       "<IPython.core.display.Math object>"
      ]
     },
     "metadata": {},
     "output_type": "display_data"
    },
    {
     "data": {
      "text/plain": [
       "[(-2*alpha*t*z, -t*z**2, z)]"
      ]
     },
     "execution_count": 76,
     "metadata": {},
     "output_type": "execute_result"
    }
   ],
   "source": [
    "pv = PVSympy([y+t*z**2, x, alpha])\n",
    "pv.print(eigvecs=True)\n",
    "\n",
    "sp.solve(pv.acceleration, (x,y,z))"
   ]
  },
  {
   "cell_type": "markdown",
   "metadata": {},
   "source": [
    "# Pitchfork Bifurcation"
   ]
  },
  {
   "cell_type": "code",
   "execution_count": 7,
   "metadata": {},
   "outputs": [
    {
     "data": {
      "text/latex": [
       "$\\displaystyle u=\\left[\\begin{matrix}t y - y^{3}\\\\x\\\\\\alpha\\end{matrix}\\right]$"
      ],
      "text/plain": [
       "<IPython.core.display.Math object>"
      ]
     },
     "metadata": {},
     "output_type": "display_data"
    },
    {
     "data": {
      "text/latex": [
       "$\\displaystyle \\nabla u=\\left[\\begin{matrix}0 & t - 3 y^{2} & 0\\\\1 & 0 & 0\\\\0 & 0 & 0\\end{matrix}\\right]$"
      ],
      "text/plain": [
       "<IPython.core.display.Math object>"
      ]
     },
     "metadata": {},
     "output_type": "display_data"
    },
    {
     "data": {
      "text/latex": [
       "$\\displaystyle (\\nabla u)u=\\left[\\begin{matrix}x \\left(t - 3 y^{2}\\right)\\\\t y - y^{3}\\\\0\\end{matrix}\\right]$"
      ],
      "text/plain": [
       "<IPython.core.display.Math object>"
      ]
     },
     "metadata": {},
     "output_type": "display_data"
    },
    {
     "data": {
      "text/latex": [
       "$\\displaystyle u\\times(\\nabla u)u=\\left[\\begin{matrix}\\alpha y \\left(- t + y^{2}\\right)\\\\\\alpha x \\left(t - 3 y^{2}\\right)\\\\x^{2} \\left(- t + 3 y^{2}\\right) + y^{2} \\left(t - y^{2}\\right)^{2}\\end{matrix}\\right]$"
      ],
      "text/plain": [
       "<IPython.core.display.Math object>"
      ]
     },
     "metadata": {},
     "output_type": "display_data"
    },
    {
     "data": {
      "text/latex": [
       "$\\displaystyle \\frac{\\mathrm{d}}{\\mathrm{d}t} (u\\times(\\nabla u)u)=\\left[\\begin{matrix}- \\alpha y\\\\\\alpha x\\\\- x^{2} + y^{2} \\cdot \\left(2 t - 2 y^{2}\\right)\\end{matrix}\\right]$"
      ],
      "text/plain": [
       "<IPython.core.display.Math object>"
      ]
     },
     "metadata": {},
     "output_type": "display_data"
    },
    {
     "data": {
      "text/latex": [
       "$\\displaystyle (\\lambda_i, v_i)=\\left[ \\left( 0, \\  1, \\  \\left[ \\left[\\begin{matrix}0\\\\0\\\\1\\end{matrix}\\right]\\right]\\right), \\  \\left( - \\sqrt{t - 3 y^{2}}, \\  1, \\  \\left[ \\left[\\begin{matrix}- \\sqrt{t - 3 y^{2}}\\\\1\\\\0\\end{matrix}\\right]\\right]\\right), \\  \\left( \\sqrt{t - 3 y^{2}}, \\  1, \\  \\left[ \\left[\\begin{matrix}\\sqrt{t - 3 y^{2}}\\\\1\\\\0\\end{matrix}\\right]\\right]\\right)\\right]$"
      ],
      "text/plain": [
       "<IPython.core.display.Math object>"
      ]
     },
     "metadata": {},
     "output_type": "display_data"
    },
    {
     "data": {
      "text/plain": [
       "[(0, 0, z), (0, -sqrt(t), z), (0, sqrt(t), z)]"
      ]
     },
     "execution_count": 7,
     "metadata": {},
     "output_type": "execute_result"
    }
   ],
   "source": [
    "pv = PVSympy([t*y - y**3, x, alpha])\n",
    "pv.print(eigvecs=True)\n",
    "\n",
    "sp.solve(pv.acceleration, (x,y,z))"
   ]
  },
  {
   "cell_type": "markdown",
   "metadata": {},
   "source": [
    "# Harris Sheet"
   ]
  },
  {
   "cell_type": "code",
   "execution_count": 8,
   "metadata": {},
   "outputs": [
    {
     "data": {
      "text/latex": [
       "$\\displaystyle u=\\left[\\begin{matrix}- t \\sin{\\left(y \\right)}\\\\x\\\\1\\end{matrix}\\right]$"
      ],
      "text/plain": [
       "<IPython.core.display.Math object>"
      ]
     },
     "metadata": {},
     "output_type": "display_data"
    },
    {
     "data": {
      "text/latex": [
       "$\\displaystyle \\nabla u=\\left[\\begin{matrix}0 & - t \\cos{\\left(y \\right)} & 0\\\\1 & 0 & 0\\\\0 & 0 & 0\\end{matrix}\\right]$"
      ],
      "text/plain": [
       "<IPython.core.display.Math object>"
      ]
     },
     "metadata": {},
     "output_type": "display_data"
    },
    {
     "data": {
      "text/latex": [
       "$\\displaystyle (\\nabla u)u=\\left[\\begin{matrix}- t x \\cos{\\left(y \\right)}\\\\- t \\sin{\\left(y \\right)}\\\\0\\end{matrix}\\right]$"
      ],
      "text/plain": [
       "<IPython.core.display.Math object>"
      ]
     },
     "metadata": {},
     "output_type": "display_data"
    },
    {
     "data": {
      "text/latex": [
       "$\\displaystyle u\\times(\\nabla u)u=\\left[\\begin{matrix}t \\sin{\\left(y \\right)}\\\\- t x \\cos{\\left(y \\right)}\\\\t^{2} \\sin^{2}{\\left(y \\right)} + t x^{2} \\cos{\\left(y \\right)}\\end{matrix}\\right]$"
      ],
      "text/plain": [
       "<IPython.core.display.Math object>"
      ]
     },
     "metadata": {},
     "output_type": "display_data"
    },
    {
     "data": {
      "text/latex": [
       "$\\displaystyle \\frac{\\mathrm{d}}{\\mathrm{d}t} (u\\times(\\nabla u)u)=\\left[\\begin{matrix}\\sin{\\left(y \\right)}\\\\- x \\cos{\\left(y \\right)}\\\\2 t \\sin^{2}{\\left(y \\right)} + x^{2} \\cos{\\left(y \\right)}\\end{matrix}\\right]$"
      ],
      "text/plain": [
       "<IPython.core.display.Math object>"
      ]
     },
     "metadata": {},
     "output_type": "display_data"
    },
    {
     "data": {
      "text/latex": [
       "$\\displaystyle \\{x\\in\\mathbb{R}^n\\mid u\\times(\\nabla u)u = 0\\}=\\left[ \\left( 0, \\  0, \\  z\\right), \\  \\left( 0, \\  \\pi, \\  z\\right)\\right]$"
      ],
      "text/plain": [
       "<IPython.core.display.Math object>"
      ]
     },
     "metadata": {},
     "output_type": "display_data"
    },
    {
     "data": {
      "text/latex": [
       "$\\displaystyle (\\lambda_i, v_i)=\\left[ \\left( 0, \\  1, \\  \\left[ \\left[\\begin{matrix}0\\\\0\\\\1\\end{matrix}\\right]\\right]\\right), \\  \\left( - \\sqrt{- t \\cos{\\left(y \\right)}}, \\  1, \\  \\left[ \\left[\\begin{matrix}- \\sqrt{- t \\cos{\\left(y \\right)}}\\\\1\\\\0\\end{matrix}\\right]\\right]\\right), \\  \\left( \\sqrt{- t \\cos{\\left(y \\right)}}, \\  1, \\  \\left[ \\left[\\begin{matrix}\\sqrt{- t \\cos{\\left(y \\right)}}\\\\1\\\\0\\end{matrix}\\right]\\right]\\right)\\right]$"
      ],
      "text/plain": [
       "<IPython.core.display.Math object>"
      ]
     },
     "metadata": {},
     "output_type": "display_data"
    }
   ],
   "source": [
    "pv = PVSympy([-t*sp.sin(y),x, 1])\n",
    "pv.print(eigvecs=True)"
   ]
  },
  {
   "cell_type": "markdown",
   "metadata": {},
   "source": [
    "# Solar Flux Rope"
   ]
  },
  {
   "cell_type": "code",
   "execution_count": 9,
   "metadata": {},
   "outputs": [
    {
     "ename": "KeyboardInterrupt",
     "evalue": "",
     "output_type": "error",
     "traceback": [
      "\u001b[0;31m---------------------------------------------------------------------------\u001b[0m",
      "\u001b[0;31mKeyboardInterrupt\u001b[0m                         Traceback (most recent call last)",
      "\u001b[1;32m/home/max/Nextcloud/Bachelor/Code/Visualization/notebooks/analystic_sympy.ipynb Cell 15\u001b[0m line \u001b[0;36m1\n\u001b[0;32m----> <a href='vscode-notebook-cell:/home/max/Nextcloud/Bachelor/Code/Visualization/notebooks/analystic_sympy.ipynb#X20sZmlsZQ%3D%3D?line=0'>1</a>\u001b[0m pv \u001b[39m=\u001b[39m PVSympy([\u001b[39m-\u001b[39m\u001b[39m1\u001b[39m\u001b[39m-\u001b[39m(t\u001b[39m*\u001b[39m(\u001b[39m1\u001b[39m\u001b[39m-\u001b[39my\u001b[39m*\u001b[39m\u001b[39m*\u001b[39m\u001b[39m2\u001b[39m)\u001b[39m/\u001b[39m((\u001b[39m1\u001b[39m\u001b[39m+\u001b[39my\u001b[39m*\u001b[39m\u001b[39m*\u001b[39m\u001b[39m2\u001b[39m)\u001b[39m*\u001b[39m(\u001b[39m1\u001b[39m\u001b[39m+\u001b[39mz\u001b[39m*\u001b[39m\u001b[39m*\u001b[39m\u001b[39m2\u001b[39m))),x, \u001b[39m1\u001b[39m])\n\u001b[1;32m      <a href='vscode-notebook-cell:/home/max/Nextcloud/Bachelor/Code/Visualization/notebooks/analystic_sympy.ipynb#X20sZmlsZQ%3D%3D?line=1'>2</a>\u001b[0m pv\u001b[39m.\u001b[39mprint(eigvecs\u001b[39m=\u001b[39m\u001b[39mTrue\u001b[39;00m)\n",
      "\u001b[1;32m/home/max/Nextcloud/Bachelor/Code/Visualization/notebooks/analystic_sympy.ipynb Cell 15\u001b[0m line \u001b[0;36m1\n\u001b[1;32m     <a href='vscode-notebook-cell:/home/max/Nextcloud/Bachelor/Code/Visualization/notebooks/analystic_sympy.ipynb#X20sZmlsZQ%3D%3D?line=13'>14</a>\u001b[0m \u001b[39mself\u001b[39m\u001b[39m.\u001b[39mparallel_vectors \u001b[39m=\u001b[39m v1\u001b[39m.\u001b[39mcross(v2)\u001b[39m.\u001b[39mto_matrix(\u001b[39mself\u001b[39m\u001b[39m.\u001b[39mN)\n\u001b[1;32m     <a href='vscode-notebook-cell:/home/max/Nextcloud/Bachelor/Code/Visualization/notebooks/analystic_sympy.ipynb#X20sZmlsZQ%3D%3D?line=15'>16</a>\u001b[0m \u001b[39mself\u001b[39m\u001b[39m.\u001b[39mpv_flow \u001b[39m=\u001b[39m \u001b[39mself\u001b[39m\u001b[39m.\u001b[39mparallel_vectors\u001b[39m.\u001b[39mdiff(t)\n\u001b[0;32m---> <a href='vscode-notebook-cell:/home/max/Nextcloud/Bachelor/Code/Visualization/notebooks/analystic_sympy.ipynb#X20sZmlsZQ%3D%3D?line=17'>18</a>\u001b[0m \u001b[39mself\u001b[39m\u001b[39m.\u001b[39mpv_solution \u001b[39m=\u001b[39m sp\u001b[39m.\u001b[39msolve(\u001b[39mself\u001b[39m\u001b[39m.\u001b[39mparallel_vectors, sp\u001b[39m.\u001b[39mMatrix([x,y,z]))\n\u001b[1;32m     <a href='vscode-notebook-cell:/home/max/Nextcloud/Bachelor/Code/Visualization/notebooks/analystic_sympy.ipynb#X20sZmlsZQ%3D%3D?line=19'>20</a>\u001b[0m \u001b[39mself\u001b[39m\u001b[39m.\u001b[39meigvecs \u001b[39m=\u001b[39m \u001b[39mself\u001b[39m\u001b[39m.\u001b[39mjacobian\u001b[39m.\u001b[39meigenvects()\n",
      "File \u001b[0;32m~/miniconda3/envs/work/lib/python3.11/site-packages/sympy/solvers/solvers.py:1114\u001b[0m, in \u001b[0;36msolve\u001b[0;34m(f, *symbols, **flags)\u001b[0m\n\u001b[1;32m   1112\u001b[0m     solution \u001b[39m=\u001b[39m _solve(f[\u001b[39m0\u001b[39m], \u001b[39m*\u001b[39msymbols, \u001b[39m*\u001b[39m\u001b[39m*\u001b[39mflags)\n\u001b[1;32m   1113\u001b[0m \u001b[39melse\u001b[39;00m:\n\u001b[0;32m-> 1114\u001b[0m     solution \u001b[39m=\u001b[39m _solve_system(f, symbols, \u001b[39m*\u001b[39m\u001b[39m*\u001b[39mflags)\n\u001b[1;32m   1116\u001b[0m \u001b[39m#\u001b[39;00m\n\u001b[1;32m   1117\u001b[0m \u001b[39m# postprocessing\u001b[39;00m\n\u001b[1;32m   1118\u001b[0m \u001b[39m###########################################################################\u001b[39;00m\n\u001b[1;32m   1119\u001b[0m \u001b[39m# Restore masked-off objects\u001b[39;00m\n\u001b[1;32m   1120\u001b[0m \u001b[39mif\u001b[39;00m non_inverts:\n",
      "File \u001b[0;32m~/miniconda3/envs/work/lib/python3.11/site-packages/sympy/solvers/solvers.py:1967\u001b[0m, in \u001b[0;36m_solve_system\u001b[0;34m(exprs, symbols, **flags)\u001b[0m\n\u001b[1;32m   1965\u001b[0m \u001b[39mfor\u001b[39;00m s \u001b[39min\u001b[39;00m ok_syms:\n\u001b[1;32m   1966\u001b[0m     \u001b[39mtry\u001b[39;00m:\n\u001b[0;32m-> 1967\u001b[0m         soln \u001b[39m=\u001b[39m _solve(eq2, s, \u001b[39m*\u001b[39m\u001b[39m*\u001b[39mflags)\n\u001b[1;32m   1968\u001b[0m     \u001b[39mexcept\u001b[39;00m \u001b[39mNotImplementedError\u001b[39;00m:\n\u001b[1;32m   1969\u001b[0m         \u001b[39mcontinue\u001b[39;00m\n",
      "File \u001b[0;32m~/miniconda3/envs/work/lib/python3.11/site-packages/sympy/solvers/solvers.py:1761\u001b[0m, in \u001b[0;36m_solve\u001b[0;34m(f, *symbols, **flags)\u001b[0m\n\u001b[1;32m   1756\u001b[0m     result \u001b[39m=\u001b[39m [s \u001b[39mfor\u001b[39;00m s \u001b[39min\u001b[39;00m result \u001b[39mif\u001b[39;00m\n\u001b[1;32m   1757\u001b[0m               \u001b[39mnot\u001b[39;00m \u001b[39many\u001b[39m(checksol(d, {symbol: s}, \u001b[39m*\u001b[39m\u001b[39m*\u001b[39mflags)\n\u001b[1;32m   1758\u001b[0m                       \u001b[39mfor\u001b[39;00m d \u001b[39min\u001b[39;00m dens)]\n\u001b[1;32m   1759\u001b[0m \u001b[39mif\u001b[39;00m check:\n\u001b[1;32m   1760\u001b[0m     \u001b[39m# keep only results if the check is not False\u001b[39;00m\n\u001b[0;32m-> 1761\u001b[0m     result \u001b[39m=\u001b[39m [r \u001b[39mfor\u001b[39;00m r \u001b[39min\u001b[39;00m result \u001b[39mif\u001b[39;00m\n\u001b[1;32m   1762\u001b[0m               checksol(f_num, {symbol: r}, \u001b[39m*\u001b[39m\u001b[39m*\u001b[39mflags) \u001b[39mis\u001b[39;00m \u001b[39mnot\u001b[39;00m \u001b[39mFalse\u001b[39;00m]\n\u001b[1;32m   1763\u001b[0m \u001b[39mreturn\u001b[39;00m result\n",
      "File \u001b[0;32m~/miniconda3/envs/work/lib/python3.11/site-packages/sympy/solvers/solvers.py:1762\u001b[0m, in \u001b[0;36m<listcomp>\u001b[0;34m(.0)\u001b[0m\n\u001b[1;32m   1756\u001b[0m     result \u001b[39m=\u001b[39m [s \u001b[39mfor\u001b[39;00m s \u001b[39min\u001b[39;00m result \u001b[39mif\u001b[39;00m\n\u001b[1;32m   1757\u001b[0m               \u001b[39mnot\u001b[39;00m \u001b[39many\u001b[39m(checksol(d, {symbol: s}, \u001b[39m*\u001b[39m\u001b[39m*\u001b[39mflags)\n\u001b[1;32m   1758\u001b[0m                       \u001b[39mfor\u001b[39;00m d \u001b[39min\u001b[39;00m dens)]\n\u001b[1;32m   1759\u001b[0m \u001b[39mif\u001b[39;00m check:\n\u001b[1;32m   1760\u001b[0m     \u001b[39m# keep only results if the check is not False\u001b[39;00m\n\u001b[1;32m   1761\u001b[0m     result \u001b[39m=\u001b[39m [r \u001b[39mfor\u001b[39;00m r \u001b[39min\u001b[39;00m result \u001b[39mif\u001b[39;00m\n\u001b[0;32m-> 1762\u001b[0m               checksol(f_num, {symbol: r}, \u001b[39m*\u001b[39m\u001b[39m*\u001b[39mflags) \u001b[39mis\u001b[39;00m \u001b[39mnot\u001b[39;00m \u001b[39mFalse\u001b[39;00m]\n\u001b[1;32m   1763\u001b[0m \u001b[39mreturn\u001b[39;00m result\n",
      "File \u001b[0;32m~/miniconda3/envs/work/lib/python3.11/site-packages/sympy/solvers/solvers.py:301\u001b[0m, in \u001b[0;36mchecksol\u001b[0;34m(f, symbol, sol, **flags)\u001b[0m\n\u001b[1;32m    299\u001b[0m         \u001b[39m# there are free symbols -- simple expansion might work\u001b[39;00m\n\u001b[1;32m    300\u001b[0m         _, val \u001b[39m=\u001b[39m val\u001b[39m.\u001b[39mas_content_primitive()\n\u001b[0;32m--> 301\u001b[0m         val \u001b[39m=\u001b[39m _mexpand(val\u001b[39m.\u001b[39mas_numer_denom()[\u001b[39m0\u001b[39m], recursive\u001b[39m=\u001b[39m\u001b[39mTrue\u001b[39;00m)\n\u001b[1;32m    302\u001b[0m \u001b[39melif\u001b[39;00m attempt \u001b[39m==\u001b[39m \u001b[39m2\u001b[39m:\n\u001b[1;32m    303\u001b[0m     \u001b[39mif\u001b[39;00m minimal:\n",
      "File \u001b[0;32m~/miniconda3/envs/work/lib/python3.11/site-packages/sympy/core/function.py:2836\u001b[0m, in \u001b[0;36m_mexpand\u001b[0;34m(expr, recursive)\u001b[0m\n\u001b[1;32m   2834\u001b[0m was \u001b[39m=\u001b[39m \u001b[39mNone\u001b[39;00m\n\u001b[1;32m   2835\u001b[0m \u001b[39mwhile\u001b[39;00m was \u001b[39m!=\u001b[39m expr:\n\u001b[0;32m-> 2836\u001b[0m     was, expr \u001b[39m=\u001b[39m expr, expand_mul(expand_multinomial(expr))\n\u001b[1;32m   2837\u001b[0m     \u001b[39mif\u001b[39;00m \u001b[39mnot\u001b[39;00m recursive:\n\u001b[1;32m   2838\u001b[0m         \u001b[39mbreak\u001b[39;00m\n",
      "File \u001b[0;32m~/miniconda3/envs/work/lib/python3.11/site-packages/sympy/core/function.py:2859\u001b[0m, in \u001b[0;36mexpand_mul\u001b[0;34m(expr, deep)\u001b[0m\n\u001b[1;32m   2845\u001b[0m \u001b[39mdef\u001b[39;00m \u001b[39mexpand_mul\u001b[39m(expr, deep\u001b[39m=\u001b[39m\u001b[39mTrue\u001b[39;00m):\n\u001b[1;32m   2846\u001b[0m \u001b[39m    \u001b[39m\u001b[39m\"\"\"\u001b[39;00m\n\u001b[1;32m   2847\u001b[0m \u001b[39m    Wrapper around expand that only uses the mul hint.  See the expand\u001b[39;00m\n\u001b[1;32m   2848\u001b[0m \u001b[39m    docstring for more information.\u001b[39;00m\n\u001b[0;32m   (...)\u001b[0m\n\u001b[1;32m   2857\u001b[0m \n\u001b[1;32m   2858\u001b[0m \u001b[39m    \"\"\"\u001b[39;00m\n\u001b[0;32m-> 2859\u001b[0m     \u001b[39mreturn\u001b[39;00m sympify(expr)\u001b[39m.\u001b[39mexpand(deep\u001b[39m=\u001b[39mdeep, mul\u001b[39m=\u001b[39m\u001b[39mTrue\u001b[39;00m, power_exp\u001b[39m=\u001b[39m\u001b[39mFalse\u001b[39;00m,\n\u001b[1;32m   2860\u001b[0m     power_base\u001b[39m=\u001b[39m\u001b[39mFalse\u001b[39;00m, basic\u001b[39m=\u001b[39m\u001b[39mFalse\u001b[39;00m, multinomial\u001b[39m=\u001b[39m\u001b[39mFalse\u001b[39;00m, log\u001b[39m=\u001b[39m\u001b[39mFalse\u001b[39;00m)\n",
      "File \u001b[0;32m~/miniconda3/envs/work/lib/python3.11/site-packages/sympy/core/cache.py:70\u001b[0m, in \u001b[0;36m__cacheit.<locals>.func_wrapper.<locals>.wrapper\u001b[0;34m(*args, **kwargs)\u001b[0m\n\u001b[1;32m     67\u001b[0m \u001b[39m@wraps\u001b[39m(func)\n\u001b[1;32m     68\u001b[0m \u001b[39mdef\u001b[39;00m \u001b[39mwrapper\u001b[39m(\u001b[39m*\u001b[39margs, \u001b[39m*\u001b[39m\u001b[39m*\u001b[39mkwargs):\n\u001b[1;32m     69\u001b[0m     \u001b[39mtry\u001b[39;00m:\n\u001b[0;32m---> 70\u001b[0m         retval \u001b[39m=\u001b[39m cfunc(\u001b[39m*\u001b[39margs, \u001b[39m*\u001b[39m\u001b[39m*\u001b[39mkwargs)\n\u001b[1;32m     71\u001b[0m     \u001b[39mexcept\u001b[39;00m \u001b[39mTypeError\u001b[39;00m \u001b[39mas\u001b[39;00m e:\n\u001b[1;32m     72\u001b[0m         \u001b[39mif\u001b[39;00m \u001b[39mnot\u001b[39;00m e\u001b[39m.\u001b[39margs \u001b[39mor\u001b[39;00m \u001b[39mnot\u001b[39;00m e\u001b[39m.\u001b[39margs[\u001b[39m0\u001b[39m]\u001b[39m.\u001b[39mstartswith(\u001b[39m'\u001b[39m\u001b[39munhashable type:\u001b[39m\u001b[39m'\u001b[39m):\n",
      "File \u001b[0;32m~/miniconda3/envs/work/lib/python3.11/site-packages/sympy/core/expr.py:3651\u001b[0m, in \u001b[0;36mExpr.expand\u001b[0;34m(self, deep, modulus, power_base, power_exp, mul, log, multinomial, basic, **hints)\u001b[0m\n\u001b[1;32m   3649\u001b[0m     \u001b[39mif\u001b[39;00m use_hint:\n\u001b[1;32m   3650\u001b[0m         hint \u001b[39m=\u001b[39m \u001b[39m'\u001b[39m\u001b[39m_eval_expand_\u001b[39m\u001b[39m'\u001b[39m \u001b[39m+\u001b[39m hint\n\u001b[0;32m-> 3651\u001b[0m         expr, hit \u001b[39m=\u001b[39m Expr\u001b[39m.\u001b[39m_expand_hint(expr, hint, deep\u001b[39m=\u001b[39mdeep, \u001b[39m*\u001b[39m\u001b[39m*\u001b[39mhints)\n\u001b[1;32m   3653\u001b[0m \u001b[39mwhile\u001b[39;00m \u001b[39mTrue\u001b[39;00m:\n\u001b[1;32m   3654\u001b[0m     was \u001b[39m=\u001b[39m expr\n",
      "File \u001b[0;32m~/miniconda3/envs/work/lib/python3.11/site-packages/sympy/core/expr.py:3584\u001b[0m, in \u001b[0;36mExpr._expand_hint\u001b[0;34m(expr, hint, deep, **hints)\u001b[0m\n\u001b[1;32m   3582\u001b[0m sargs \u001b[39m=\u001b[39m []\n\u001b[1;32m   3583\u001b[0m \u001b[39mfor\u001b[39;00m arg \u001b[39min\u001b[39;00m expr\u001b[39m.\u001b[39margs:\n\u001b[0;32m-> 3584\u001b[0m     arg, arghit \u001b[39m=\u001b[39m Expr\u001b[39m.\u001b[39m_expand_hint(arg, hint, \u001b[39m*\u001b[39m\u001b[39m*\u001b[39mhints)\n\u001b[1;32m   3585\u001b[0m     hit \u001b[39m|\u001b[39m\u001b[39m=\u001b[39m arghit\n\u001b[1;32m   3586\u001b[0m     sargs\u001b[39m.\u001b[39mappend(arg)\n",
      "File \u001b[0;32m~/miniconda3/envs/work/lib/python3.11/site-packages/sympy/core/expr.py:3584\u001b[0m, in \u001b[0;36mExpr._expand_hint\u001b[0;34m(expr, hint, deep, **hints)\u001b[0m\n\u001b[1;32m   3582\u001b[0m sargs \u001b[39m=\u001b[39m []\n\u001b[1;32m   3583\u001b[0m \u001b[39mfor\u001b[39;00m arg \u001b[39min\u001b[39;00m expr\u001b[39m.\u001b[39margs:\n\u001b[0;32m-> 3584\u001b[0m     arg, arghit \u001b[39m=\u001b[39m Expr\u001b[39m.\u001b[39m_expand_hint(arg, hint, \u001b[39m*\u001b[39m\u001b[39m*\u001b[39mhints)\n\u001b[1;32m   3585\u001b[0m     hit \u001b[39m|\u001b[39m\u001b[39m=\u001b[39m arghit\n\u001b[1;32m   3586\u001b[0m     sargs\u001b[39m.\u001b[39mappend(arg)\n",
      "    \u001b[0;31m[... skipping similar frames: Expr._expand_hint at line 3584 (6 times)]\u001b[0m\n",
      "File \u001b[0;32m~/miniconda3/envs/work/lib/python3.11/site-packages/sympy/core/expr.py:3584\u001b[0m, in \u001b[0;36mExpr._expand_hint\u001b[0;34m(expr, hint, deep, **hints)\u001b[0m\n\u001b[1;32m   3582\u001b[0m sargs \u001b[39m=\u001b[39m []\n\u001b[1;32m   3583\u001b[0m \u001b[39mfor\u001b[39;00m arg \u001b[39min\u001b[39;00m expr\u001b[39m.\u001b[39margs:\n\u001b[0;32m-> 3584\u001b[0m     arg, arghit \u001b[39m=\u001b[39m Expr\u001b[39m.\u001b[39m_expand_hint(arg, hint, \u001b[39m*\u001b[39m\u001b[39m*\u001b[39mhints)\n\u001b[1;32m   3585\u001b[0m     hit \u001b[39m|\u001b[39m\u001b[39m=\u001b[39m arghit\n\u001b[1;32m   3586\u001b[0m     sargs\u001b[39m.\u001b[39mappend(arg)\n",
      "\u001b[0;31mKeyboardInterrupt\u001b[0m: "
     ]
    }
   ],
   "source": [
    "pv = PVSympy([-1-(t*(1-y**2)/((1+y**2)*(1+z**2))),x, 1])\n",
    "pv.print(eigvecs=True)"
   ]
  },
  {
   "cell_type": "code",
   "execution_count": 9,
   "metadata": {},
   "outputs": [
    {
     "data": {
      "text/latex": [
       "$\\displaystyle u=\\left[\\begin{matrix}\\tanh{\\left(y \\right)}\\\\t \\sin{\\left(x \\right)}\\\\\\alpha z\\end{matrix}\\right]$"
      ],
      "text/plain": [
       "<IPython.core.display.Math object>"
      ]
     },
     "metadata": {},
     "output_type": "display_data"
    },
    {
     "data": {
      "text/latex": [
       "$\\displaystyle \\nabla u=\\left[\\begin{matrix}0 & 1 - \\tanh^{2}{\\left(y \\right)} & 0\\\\t \\cos{\\left(x \\right)} & 0 & 0\\\\0 & 0 & \\alpha\\end{matrix}\\right]$"
      ],
      "text/plain": [
       "<IPython.core.display.Math object>"
      ]
     },
     "metadata": {},
     "output_type": "display_data"
    },
    {
     "data": {
      "text/latex": [
       "$\\displaystyle (\\nabla u)u=\\left[\\begin{matrix}t \\left(1 - \\tanh^{2}{\\left(y \\right)}\\right) \\sin{\\left(x \\right)}\\\\t \\cos{\\left(x \\right)} \\tanh{\\left(y \\right)}\\\\\\alpha^{2} z\\end{matrix}\\right]$"
      ],
      "text/plain": [
       "<IPython.core.display.Math object>"
      ]
     },
     "metadata": {},
     "output_type": "display_data"
    },
    {
     "data": {
      "text/latex": [
       "$\\displaystyle u\\times(\\nabla u)u=\\left[\\begin{matrix}\\alpha t z \\left(\\alpha \\sin{\\left(x \\right)} - \\cos{\\left(x \\right)} \\tanh{\\left(y \\right)}\\right)\\\\- \\alpha z \\left(\\alpha \\tanh{\\left(y \\right)} - \\frac{t \\sin{\\left(x \\right)}}{\\cosh^{2}{\\left(y \\right)}}\\right)\\\\- t \\left(\\frac{t \\sin^{2}{\\left(x \\right)}}{\\cosh^{2}{\\left(y \\right)}} - \\cos{\\left(x \\right)} \\tanh^{2}{\\left(y \\right)}\\right)\\end{matrix}\\right]$"
      ],
      "text/plain": [
       "<IPython.core.display.Math object>"
      ]
     },
     "metadata": {},
     "output_type": "display_data"
    },
    {
     "data": {
      "text/latex": [
       "$\\displaystyle \\frac{\\mathrm{d}}{\\mathrm{d}t} (u\\times(\\nabla u)u)=\\left[\\begin{matrix}\\alpha z \\left(\\alpha \\sin{\\left(x \\right)} - \\cos{\\left(x \\right)} \\tanh{\\left(y \\right)}\\right)\\\\\\frac{\\alpha z \\sin{\\left(x \\right)}}{\\cosh^{2}{\\left(y \\right)}}\\\\- \\frac{2 t \\sin^{2}{\\left(x \\right)}}{\\cosh^{2}{\\left(y \\right)}} + \\cos{\\left(x \\right)} \\tanh^{2}{\\left(y \\right)}\\end{matrix}\\right]$"
      ],
      "text/plain": [
       "<IPython.core.display.Math object>"
      ]
     },
     "metadata": {},
     "output_type": "display_data"
    },
    {
     "data": {
      "text/latex": [
       "$\\displaystyle (\\lambda_i, v_i)=\\left[ \\left( \\alpha, \\  1, \\  \\left[ \\left[\\begin{matrix}0\\\\0\\\\1\\end{matrix}\\right]\\right]\\right), \\  \\left( - \\sqrt{- t \\left(\\tanh{\\left(y \\right)} - 1\\right) \\left(\\tanh{\\left(y \\right)} + 1\\right) \\cos{\\left(x \\right)}}, \\  1, \\  \\left[ \\left[\\begin{matrix}- \\frac{\\sqrt{- t \\left(\\tanh{\\left(y \\right)} - 1\\right) \\left(\\tanh{\\left(y \\right)} + 1\\right) \\cos{\\left(x \\right)}}}{t \\cos{\\left(x \\right)}}\\\\1\\\\0\\end{matrix}\\right]\\right]\\right), \\  \\left( \\sqrt{- t \\left(\\tanh{\\left(y \\right)} - 1\\right) \\left(\\tanh{\\left(y \\right)} + 1\\right) \\cos{\\left(x \\right)}}, \\  1, \\  \\left[ \\left[\\begin{matrix}\\frac{\\sqrt{- t \\left(\\tanh{\\left(y \\right)} - 1\\right) \\left(\\tanh{\\left(y \\right)} + 1\\right) \\cos{\\left(x \\right)}}}{t \\cos{\\left(x \\right)}}\\\\1\\\\0\\end{matrix}\\right]\\right]\\right)\\right]$"
      ],
      "text/plain": [
       "<IPython.core.display.Math object>"
      ]
     },
     "metadata": {},
     "output_type": "display_data"
    }
   ],
   "source": [
    "pv = PVSympy([sp.tanh(y), t*sp.sin(x), alpha*z])\n",
    "pv.print(eigvecs=True)"
   ]
  },
  {
   "cell_type": "markdown",
   "metadata": {},
   "source": [
    "# Vector Potential"
   ]
  },
  {
   "cell_type": "code",
   "execution_count": 15,
   "metadata": {},
   "outputs": [
    {
     "name": "stdout",
     "output_type": "stream",
     "text": [
      "\\left[\\begin{matrix}- \\frac{2 \\mathbf{{y}_{R}} A e^{\\frac{- \\mathbf{{y}_{R}}^{2} - \\left(\\mathbf{{x}_{R}} - 1\\right)^{2}}{\\sigma^{2}}}}{\\sigma^{2}} - \\frac{2 \\mathbf{{y}_{R}} A e^{\\frac{- \\mathbf{{y}_{R}}^{2} - \\left(\\mathbf{{x}_{R}} + 1\\right)^{2}}{\\sigma^{2}}}}{\\sigma^{2}}\\\\- \\frac{A \\left(2 - 2 \\mathbf{{x}_{R}}\\right) e^{\\frac{- \\mathbf{{y}_{R}}^{2} - \\left(\\mathbf{{x}_{R}} - 1\\right)^{2}}{\\sigma^{2}}}}{\\sigma^{2}} - \\frac{A \\left(- 2 \\mathbf{{x}_{R}} - 2\\right) e^{\\frac{- \\mathbf{{y}_{R}}^{2} - \\left(\\mathbf{{x}_{R}} + 1\\right)^{2}}{\\sigma^{2}}}}{\\sigma^{2}}\\\\\\alpha\\end{matrix}\\right]\n"
     ]
    }
   ],
   "source": [
    "from sympy.vector import CoordSys3D\n",
    "from sympy.vector import curl\n",
    "import sympy as sp\n",
    "x,y,z,alpha,A, sigma = sp.symbols(\"x y z alpha A sigma\")\n",
    "R = CoordSys3D('R')\n",
    "\n",
    "#vec_pot = A*sp.exp(-(x-1)**2 - y**2) + A*sp.exp(-(x+1)**2 - y**2)\n",
    "\n",
    "B_field = curl((1-alpha)*R.y*R.i+R.x*R.j+(A*sp.exp((-(R.x-1)**2 - R.y**2)/sigma**2) + A*sp.exp((-(R.x+1)**2 - R.y**2)/sigma**2))*R.k, R)\n",
    "\n",
    "B_field_mat = B_field.to_matrix(R)\n",
    "sp.print_latex(B_field_mat)\n",
    "#printf(B_field_mat)\n",
    "\n",
    "#printf(B_field_mat.jacobian([R.x, R.y, R.z]))#.eigenvects()\n"
   ]
  },
  {
   "cell_type": "code",
   "execution_count": 64,
   "metadata": {},
   "outputs": [
    {
     "data": {
      "text/latex": [
       "$\\displaystyle J=\\left(0.5 \\operatorname{sech}^{2}{\\left(\\mathbf{{x}_{R}} \\right)} - 0.5 \\operatorname{sech}^{2}{\\left(\\mathbf{{y}_{R}} \\right)}\\right)\\mathbf{\\hat{k}_{R}}$"
      ],
      "text/plain": [
       "<IPython.core.display.Math object>"
      ]
     },
     "metadata": {},
     "output_type": "display_data"
    },
    {
     "data": {
      "text/latex": [
       "$\\displaystyle \\left[\\begin{matrix}0 & 0.5 t \\operatorname{sech}^{2}{\\left(\\mathbf{{x}_{R}} \\right)} + 0.5 \\cdot \\left(1 - t\\right) \\operatorname{sech}^{2}{\\left(\\mathbf{{y}_{R}} \\right)} & 0\\\\0.5 t \\operatorname{sech}^{2}{\\left(\\mathbf{{x}_{R}} \\right)} + 0.5 \\cdot \\left(1 - t\\right) \\operatorname{sech}^{2}{\\left(\\mathbf{{y}_{R}} \\right)} & 0 & 0\\\\0 & 0 & 0\\end{matrix}\\right]$"
      ],
      "text/plain": [
       "<IPython.core.display.Math object>"
      ]
     },
     "metadata": {},
     "output_type": "display_data"
    },
    {
     "data": {
      "text/latex": [
       "$\\displaystyle \\left[ \\left( - 1.5707963267949 i, \\  - 1.5707963267949 i, \\  X_{2}\\right), \\  \\left( - 1.5707963267949 i, \\  1.5707963267949 i, \\  X_{2}\\right), \\  \\left( 1.5707963267949 i, \\  - 1.5707963267949 i, \\  X_{2}\\right), \\  \\left( 1.5707963267949 i, \\  1.5707963267949 i, \\  X_{2}\\right)\\right]$"
      ],
      "text/plain": [
       "<IPython.core.display.Math object>"
      ]
     },
     "metadata": {},
     "output_type": "display_data"
    },
    {
     "data": {
      "text/latex": [
       "$\\displaystyle I_2=0.0625 \\left(\\operatorname{sech}^{2}{\\left(\\mathbf{{x}_{R}} \\right)} + \\operatorname{sech}^{2}{\\left(\\mathbf{{y}_{R}} \\right)}\\right)^{2}$"
      ],
      "text/plain": [
       "<IPython.core.display.Math object>"
      ]
     },
     "metadata": {},
     "output_type": "display_data"
    }
   ],
   "source": [
    "from sympy.vector import CoordSys3D\n",
    "from sympy.vector import curl\n",
    "import sympy as sp\n",
    "x,y,z,alpha,A, sigma = sp.symbols(\"x y z alpha A sigma\")\n",
    "R = CoordSys3D('R')\n",
    "\n",
    "#vec_pot = A*sp.exp(-(x-1)**2 - y**2) + A*sp.exp(-(x+1)**2 - y**2)\n",
    "\n",
    "B_field = (((1-t)*sp.sin(R.y))*R.i+(t*sp.tanh(R.x))*R.j+alpha*R.k)\n",
    "#B_field = (((1-t)*R.y**3)*R.i+(t*R.x**3)*R.j+alpha*R.k)\n",
    "\n",
    "current_density = curl(B_field, R)\n",
    "printf(current_density.subs(1-sp.tanh(R.x)**2, sp.sech(R.x)**2).subs(1-sp.tanh(R.y)**2, sp.sech(R.y)**2).subs(t,0.5), \"J=\")\n",
    "\n",
    "B_field_mat = B_field.to_matrix(R)\n",
    "dB = B_field_mat.jacobian([R.x, R.y, R.z])#.eigenvects()\n",
    "S = 0.5*(dB+dB.transpose()).subs(1-sp.tanh(R.x)**2, sp.sech(R.x)**2).subs(1-sp.tanh(R.y)**2, sp.sech(R.y)**2)\n",
    "printf(S)\n",
    "l1 = S.eigenvects()[0][0]\n",
    "l2 = S.eigenvects()[1][0]\n",
    "l3 = S.eigenvects()[2][0]\n",
    "I_2 = -(l1*l2+l2*l3+l3*l1)\n",
    "printf(sp.solve(I_2, (R.x, R.y, R.z)))\n",
    "printf(I_2.simplify().subs(t,0.5), \"I_2=\")"
   ]
  },
  {
   "cell_type": "code",
   "execution_count": 6,
   "metadata": {},
   "outputs": [
    {
     "data": {
      "text/latex": [
       "$\\displaystyle \\left[\\begin{matrix}0\\\\0\\\\- t \\cos{\\left(\\mathbf{{x}_{R}} \\right)} - \\operatorname{sech}^{2}{\\left(\\mathbf{{y}_{R}} \\right)}\\end{matrix}\\right]$"
      ],
      "text/plain": [
       "<IPython.core.display.Math object>"
      ]
     },
     "metadata": {},
     "output_type": "display_data"
    },
    {
     "data": {
      "text/latex": [
       "$\\displaystyle J=\\left|{t \\cos{\\left(\\mathbf{{x}_{R}} \\right)} + \\operatorname{sech}^{2}{\\left(\\mathbf{{y}_{R}} \\right)}}\\right|$"
      ],
      "text/plain": [
       "<IPython.core.display.Math object>"
      ]
     },
     "metadata": {},
     "output_type": "display_data"
    },
    {
     "data": {
      "text/latex": [
       "$\\displaystyle \\left[\\begin{matrix}0 & - 0.5 t \\cos{\\left(\\mathbf{{x}_{R}} \\right)} + 0.5 \\operatorname{sech}^{2}{\\left(\\mathbf{{y}_{R}} \\right)} & 0\\\\- 0.5 t \\cos{\\left(\\mathbf{{x}_{R}} \\right)} + 0.5 \\operatorname{sech}^{2}{\\left(\\mathbf{{y}_{R}} \\right)} & 0 & 0\\\\0 & 0 & 0\\end{matrix}\\right]$"
      ],
      "text/plain": [
       "<IPython.core.display.Math object>"
      ]
     },
     "metadata": {},
     "output_type": "display_data"
    },
    {
     "data": {
      "text/latex": [
       "$\\displaystyle I_2=0.25 \\left(t \\cos{\\left(\\mathbf{{x}_{R}} \\right)} - \\operatorname{sech}^{2}{\\left(\\mathbf{{y}_{R}} \\right)}\\right)^{2}$"
      ],
      "text/plain": [
       "<IPython.core.display.Math object>"
      ]
     },
     "metadata": {},
     "output_type": "display_data"
    }
   ],
   "source": [
    "from sympy.vector import CoordSys3D\n",
    "from sympy.vector import curl\n",
    "import sympy as sp\n",
    "x,y,z,alpha,A, sigma, t = sp.symbols(\"x y z alpha A sigma t\")\n",
    "R = CoordSys3D('R')\n",
    "\n",
    "#vec_pot = A*sp.exp(-(x-1)**2 - y**2) + A*sp.exp(-(x+1)**2 - y**2)\n",
    "\n",
    "B_field = ((sp.tanh(R.y))*R.i-(t*sp.sin(R.x))*R.j+alpha*R.k)\n",
    "#B_field = (((1-t)*R.y**3)*R.i+(t*R.x**3)*R.j+alpha*R.k)\n",
    "\n",
    "current_density = curl(B_field, R)\n",
    "printf(current_density.to_matrix(R).subs(1-sp.tanh(R.x)**2, sp.sech(R.x)**2).subs(1-sp.tanh(R.y)**2, sp.sech(R.y)**2))#.norm(), \"J=\")\n",
    "printf(current_density.to_matrix(R).subs(1-sp.tanh(R.x)**2, sp.sech(R.x)**2).subs(1-sp.tanh(R.y)**2, sp.sech(R.y)**2).norm(), \"J=\")\n",
    "\n",
    "B_field_mat = B_field.to_matrix(R)\n",
    "dB = B_field_mat.jacobian([R.x, R.y, R.z])#.eigenvects()\n",
    "S = 1/2*(dB+dB.transpose()).subs(1-sp.tanh(R.x)**2, sp.sech(R.x)**2).subs(1-sp.tanh(R.y)**2, sp.sech(R.y)**2)\n",
    "\n",
    "printf(S)\n",
    "\n",
    "l1 = S.eigenvects()[0][0]\n",
    "l2 = S.eigenvects()[1][0]\n",
    "l3 = S.eigenvects()[2][0]\n",
    "\n",
    "I_2 = -(l1*l2+l2*l3+l3*l1)\n",
    "\n",
    "#printf(sp.solve(I_2, (R.x, R.y, R.z)))\n",
    "printf(I_2.simplify(), \"I_2=\")"
   ]
  },
  {
   "cell_type": "code",
   "execution_count": 7,
   "metadata": {},
   "outputs": [
    {
     "data": {
      "text/latex": [
       "$\\displaystyle J=\\left|{\\operatorname{sech}{\\left(\\mathbf{{y}_{R}} \\right)}}\\right|^{2}$"
      ],
      "text/plain": [
       "<IPython.core.display.Math object>"
      ]
     },
     "metadata": {},
     "output_type": "display_data"
    },
    {
     "data": {
      "text/latex": [
       "$\\displaystyle I_2=0.25 \\operatorname{sech}^{4}{\\left(\\mathbf{{y}_{R}} \\right)}$"
      ],
      "text/plain": [
       "<IPython.core.display.Math object>"
      ]
     },
     "metadata": {},
     "output_type": "display_data"
    }
   ],
   "source": [
    "t0 = 0\n",
    "printf(current_density.to_matrix(R).subs(1-sp.tanh(R.x)**2, sp.sech(R.x)**2).subs(1-sp.tanh(R.y)**2, sp.sech(R.y)**2).norm().subs(t,t0), \"J=\")\n",
    "printf(I_2.simplify().subs(t,t0), \"I_2=\")"
   ]
  },
  {
   "cell_type": "code",
   "execution_count": 8,
   "metadata": {},
   "outputs": [
    {
     "data": {
      "text/latex": [
       "$\\displaystyle J=\\left|{\\cos{\\left(\\mathbf{{x}_{R}} \\right)} + \\operatorname{sech}^{2}{\\left(\\mathbf{{y}_{R}} \\right)}}\\right|$"
      ],
      "text/plain": [
       "<IPython.core.display.Math object>"
      ]
     },
     "metadata": {},
     "output_type": "display_data"
    },
    {
     "data": {
      "text/latex": [
       "$\\displaystyle I_2=0.25 \\left(\\cos{\\left(\\mathbf{{x}_{R}} \\right)} - \\operatorname{sech}^{2}{\\left(\\mathbf{{y}_{R}} \\right)}\\right)^{2}$"
      ],
      "text/plain": [
       "<IPython.core.display.Math object>"
      ]
     },
     "metadata": {},
     "output_type": "display_data"
    }
   ],
   "source": [
    "t0 = 1\n",
    "printf(current_density.to_matrix(R).subs(1-sp.tanh(R.x)**2, sp.sech(R.x)**2).subs(1-sp.tanh(R.y)**2, sp.sech(R.y)**2).norm().subs(t,t0), \"J=\")\n",
    "printf(I_2.simplify().subs(t,t0), \"I_2=\")"
   ]
  },
  {
   "cell_type": "code",
   "execution_count": 21,
   "metadata": {},
   "outputs": [
    {
     "data": {
      "image/png": "[encoded data removed]",
      "text/plain": [
       "<Figure size 400x300 with 1 Axes>"
      ]
     },
     "metadata": {},
     "output_type": "display_data"
    }
   ],
   "source": [
    "import numpy as np\n",
    "import matplotlib.pyplot as plt\n",
    "import matplotlib.ticker as tk\n",
    "plt.style.use('light')\n",
    "\n",
    "fig, ax = plt.subplots(figsize=(4,3))\n",
    "xlin = np.linspace(-4, 4, 500)\n",
    "\n",
    "sech = np.sqrt(1-np.tanh(xlin)**2)\n",
    "\n",
    "J_num = np.abs(sech)**2\n",
    "I_2_num = 0.25*(sech)**4\n",
    "\n",
    "ax.plot(xlin, J_num, label=\"$\\|\\\\mathbf{J}\\|_2$\", linestyle=\"--\", color=\"black\")\n",
    "ax.plot(xlin, I_2_num, label=\"$I_2$\", color=\"black\")\n",
    "\n",
    "# ax.xaxis.set_major_formatter(tk.FormatStrFormatter('%g $\\pi$'))\n",
    "# ax.xaxis.set_major_locator(tk.MultipleLocator(base=1.0))\n",
    "\n",
    "# Add labels and title\n",
    "ax.set_xlabel('$y$', fontname='serif')\n",
    "#ax.set_ylabel('f(x)', fontname='serif')\n",
    "ax.set_title('Time $t=0$', fontname='serif')\n",
    "\n",
    "# Use font with serifs\n",
    "plt.rcParams['font.family'] = 'serif'\n",
    "plt.legend()\n",
    "plt.tight_layout()\n",
    "plt.savefig(\"/home/max/Nextcloud/Bachelor/Media/Plots/shear_t0.pdf\", facecolor='w')\n",
    "plt.show()\n"
   ]
  },
  {
   "cell_type": "code",
   "execution_count": 22,
   "metadata": {},
   "outputs": [
    {
     "data": {
      "image/png": "[encoded data removed]",
      "text/plain": [
       "<Figure size 400x300 with 1 Axes>"
      ]
     },
     "metadata": {},
     "output_type": "display_data"
    }
   ],
   "source": [
    "\n",
    "\n",
    "fig, ax = plt.subplots(figsize=(4,3))\n",
    "xlin = np.linspace(-9, 9, 500)\n",
    "\n",
    "sech = np.sqrt(1-np.tanh(xlin)**2)\n",
    "\n",
    "J_num = np.abs(np.cos(xlin)+1)\n",
    "I_2_num = 0.25*(np.cos(xlin)-1)**2\n",
    "\n",
    "ax.plot(xlin / np.pi, J_num, label=\"$\\|\\\\mathbf{J}\\|_2$\", linestyle=\"--\", color=\"black\")\n",
    "ax.plot(xlin / np.pi, I_2_num, label=\"$I_2$\", color=\"black\")\n",
    "\n",
    "\n",
    "ax.xaxis.set_major_formatter(tk.FormatStrFormatter('%g $\\pi$'))\n",
    "ax.xaxis.set_major_locator(tk.MultipleLocator(base=1.0))\n",
    "\n",
    "# Add labels and title\n",
    "ax.set_xlabel('$x$')#, fontname='serif')\n",
    "#ax.set_ylabel('f(x)')#, fontname='serif')\n",
    "ax.set_title('Time $t=1$', fontname='serif')\n",
    "#plt.legend()\n",
    "# Use font with serifs\n",
    "#plt.rcParams['font.fam\n",
    "plt.tight_layout()\n",
    "plt.savefig(\"/home/max/Nextcloud/Bachelor/Media/Plots/shear_t1.pdf\", facecolor='w')\n",
    "plt.show()\n"
   ]
  },
  {
   "cell_type": "code",
   "execution_count": 33,
   "metadata": {},
   "outputs": [
    {
     "data": {
      "text/plain": [
       "[<matplotlib.lines.Line2D at 0x734ef84ec4d0>]"
      ]
     },
     "execution_count": 33,
     "metadata": {},
     "output_type": "execute_result"
    },
    {
     "data": {
      "image/png": "[encoded data removed]",
      "text/plain": [
       "<Figure size 640x480 with 3 Axes>"
      ]
     },
     "metadata": {},
     "output_type": "display_data"
    }
   ],
   "source": [
    "from matplotlib import gridspec\n",
    "\n",
    "xlin = np.linspace(-9, 9, 500)\n",
    "ylin = np.linspace(-4, 4, 500)\n",
    "x,y = np.meshgrid(xlin, ylin)\n",
    "\n",
    "sech = np.sqrt(1-np.tanh(y)**2)\n",
    "z = 0.25*(0.5*np.cos(x)-sech**2)**2\n",
    "\n",
    "gs = gridspec.GridSpec(2, 2, width_ratios=[1,3], height_ratios=[3,1])\n",
    "ax = plt.subplot(gs[0,1])\n",
    "axl = plt.subplot(gs[0,0], sharey=ax)\n",
    "axb = plt.subplot(gs[1,1], sharex=ax)\n",
    "\n",
    "ax.imshow(z, origin='lower', extent=[-9,9,-4,4], aspect='auto')\n",
    "#plt.xlim()\n",
    "#np.mean(z, axis=1)\n",
    "axl.plot(z[:,len(z)//2], ylin, label=\"$\\|\\\\mathbf{J}\\|_2$\", linestyle=\"--\", color=\"black\")\n",
    "axb.plot(xlin,z[len(z)//2], label=\"$I_2$\", color=\"black\")\n"
   ]
  },
  {
   "cell_type": "code",
   "execution_count": 9,
   "metadata": {},
   "outputs": [
    {
     "data": {
      "text/plain": [
       "[(0,\n",
       "  3,\n",
       "  [Matrix([\n",
       "   [1],\n",
       "   [0],\n",
       "   [0]]),\n",
       "   Matrix([\n",
       "   [           0],\n",
       "   [2*z/(3*y**2)],\n",
       "   [           1]])])]"
      ]
     },
     "execution_count": 9,
     "metadata": {},
     "output_type": "execute_result"
    }
   ],
   "source": [
    "from sympy.vector import CoordSys3D\n",
    "from sympy.vector import curl\n",
    "import sympy as sp\n",
    "x,y,z,alpha,A, sigma, t = sp.symbols(\"x y z alpha A sigma t\")\n",
    "R = CoordSys3D('R')\n",
    "\n",
    "B = sp.Matrix([-(1-t)*y**3 + z**2, t*x**3, alpha])\n",
    "B.jacobian([x,y,z]).subs(t,0).eigenvects()"
   ]
  },
  {
   "cell_type": "markdown",
   "metadata": {},
   "source": [
    "# Hamiltonian "
   ]
  },
  {
   "cell_type": "code",
   "execution_count": 9,
   "metadata": {},
   "outputs": [
    {
     "data": {
      "text/latex": [
       "$\\displaystyle \\left[\\begin{matrix}\\epsilon + y^{2}\\\\- x\\end{matrix}\\right]$"
      ],
      "text/plain": [
       "Matrix([\n",
       "[epsilon + y**2],\n",
       "[            -x]])"
      ]
     },
     "execution_count": 9,
     "metadata": {},
     "output_type": "execute_result"
    }
   ],
   "source": [
    "x,y,eps = sp.symbols(\"x y epsilon\")\n",
    "\n",
    "H = x**2/2 + y**3/3 + eps*y\n",
    "\n",
    "dx = H.diff(y)\n",
    "dy = -H.diff(x)\n",
    "\n",
    "u = sp.Matrix([dx, dy])\n",
    "u"
   ]
  },
  {
   "cell_type": "markdown",
   "metadata": {},
   "source": [
    "# First try"
   ]
  },
  {
   "cell_type": "code",
   "execution_count": 10,
   "metadata": {},
   "outputs": [
    {
     "data": {
      "text/plain": [
       "(-1.0, -1.0, 2)"
      ]
     },
     "execution_count": 10,
     "metadata": {},
     "output_type": "execute_result"
    }
   ],
   "source": [
    "x, y, z, t = sp.symbols(\"x y z t\")\n",
    "\n",
    "lin = np.linspace(-5, 5, 100)\n",
    "# x,y = np.meshgrid(lin, lin)\n",
    "x0,y0 = 1,1\n",
    "sigma = 0.5\n",
    "X = x + x0\n",
    "Y = y + y0\n",
    "dist = X**2 + Y**2\n",
    "decay = sp.exp(-dist / sigma**2)\n",
    "# decay = 1 / distim\n",
    "vec = sp.Matrix([-Y, X, z])\n",
    "spiral = vec * decay\n",
    "\n",
    "\n",
    "jac = spiral.jacobian(sp.Matrix([x, y, z]))\n",
    "parallel_vec = spiral.cross(jac*spiral)\n",
    "sol = sp.solve(parallel_vec, sp.Matrix([x,y,z]))\n",
    "\n",
    "lin = np.linspace(-2,2,10)\n",
    "Xx,Yy,Zz = np.meshgrid(lin,lin,lin,indexing=\"ij\")\n",
    "\n",
    "#spiral2 = spiral(x, y, -1, 0, 1)\n",
    "F_x = sp.lambdify((x, y, z), sol[0])\n",
    "F_y = sp.lambdify((x, y, z), sol[1])\n",
    "F_z = sp.lambdify((x, y, z), sol[2])\n",
    "\n",
    "U = F_x(Xx, Yy, Zz)\n",
    "V = F_y(Xx, Yy, Zz)\n",
    "W = F_z(Xx, Yy, Zz)\n",
    "\n",
    "F_x(1,1,2)\n",
    "\n",
    "# sp.gradie"
   ]
  },
  {
   "cell_type": "code",
   "execution_count": 21,
   "metadata": {},
   "outputs": [
    {
     "data": {
      "text/latex": [
       "$\\displaystyle \\left[ \\right]$"
      ],
      "text/plain": [
       "<IPython.core.display.Math object>"
      ]
     },
     "metadata": {},
     "output_type": "display_data"
    }
   ],
   "source": [
    "dx = y**2-1\n",
    "dy = -x\n",
    "\n",
    "u = dx/dy\n",
    "printf(sp.solve([u,sp.integrate(u,y)], [x,y]))"
   ]
  },
  {
   "cell_type": "code",
   "execution_count": null,
   "metadata": {},
   "outputs": [],
   "source": []
  }
 ],
 "metadata": {
  "kernelspec": {
   "display_name": "work",
   "language": "python",
   "name": "python3"
  },
  "language_info": {
   "codemirror_mode": {
    "name": "ipython",
    "version": 3
   },
   "file_extension": ".py",
   "mimetype": "text/x-python",
   "name": "python",
   "nbconvert_exporter": "python",
   "pygments_lexer": "ipython3",
   "version": "3.11.3"
  },
  "orig_nbformat": 4
 },
 "nbformat": 4,
 "nbformat_minor": 2
}
